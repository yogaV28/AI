{
  "nbformat": 4,
  "nbformat_minor": 0,
  "metadata": {
    "colab": {
      "provenance": []
    },
    "kernelspec": {
      "name": "python3",
      "display_name": "Python 3"
    },
    "language_info": {
      "name": "python"
    }
  },
  "cells": [
    {
      "cell_type": "markdown",
      "source": [
        "##Program to solve Sudoku using Knowledge Representation"
      ],
      "metadata": {
        "id": "_AdIocOVI64G"
      }
    },
    {
      "cell_type": "code",
      "execution_count": 1,
      "metadata": {
        "colab": {
          "base_uri": "https://localhost:8080/"
        },
        "id": "KF6-uO3SIyuW",
        "outputId": "017a656c-2da3-4b38-d411-acc6b79bf82f"
      },
      "outputs": [
        {
          "output_type": "stream",
          "name": "stdout",
          "text": [
            "[5, 3, 4, 6, 7, 8, 9, 1, 2]\n",
            "[6, 7, 2, 1, 9, 5, 3, 4, 8]\n",
            "[1, 9, 8, 3, 4, 2, 5, 6, 7]\n",
            "[8, 5, 9, 7, 6, 1, 4, 2, 3]\n",
            "[4, 2, 6, 8, 5, 3, 7, 9, 1]\n",
            "[7, 1, 3, 9, 2, 4, 8, 5, 6]\n",
            "[9, 6, 1, 5, 3, 7, 2, 8, 4]\n",
            "[2, 8, 7, 4, 1, 9, 6, 3, 5]\n",
            "[3, 4, 5, 2, 8, 6, 1, 7, 9]\n"
          ]
        }
      ],
      "source": [
        "size = 9\n",
        "# empty cells have value zero\n",
        "matrix = [\n",
        "    [5,3,0,0,7,0,0,0,0],\n",
        "    [6,0,0,1,9,5,0,0,0],\n",
        "    [0,9,8,0,0,0,0,6,0],\n",
        "    [8,0,0,0,6,0,0,0,3],\n",
        "    [4,0,0,8,0,3,0,0,1],\n",
        "    [7,0,0,0,2,0,0,0,6],\n",
        "    [0,6,0,0,0,0,2,8,0],\n",
        "    [0,0,0,4,1,9,0,0,5],\n",
        "    [0,0,0,0,8,0,0,7,9]\n",
        "]\n",
        "\n",
        "# print sudoku\n",
        "def print_sudoku():\n",
        "    for i in matrix:\n",
        "        print(i)\n",
        "\n",
        "# assign cells and check\n",
        "def number_unassigned(row, col):\n",
        "    num_unassign = 0\n",
        "    for i in range(0, size):\n",
        "        for j in range(0, size):\n",
        "            # cell is unassigned\n",
        "            if matrix[i][j] == 0:\n",
        "                row = i\n",
        "                col = j\n",
        "                num_unassign = 1\n",
        "                a = [row, col, num_unassign]\n",
        "                return a\n",
        "    a = [-1, -1, num_unassign]\n",
        "    return a\n",
        "\n",
        "# check validity of number\n",
        "def is_safe(n, r, c):\n",
        "    # checking in row\n",
        "    for i in range(0, size):\n",
        "        # there is a cell with same value\n",
        "        if matrix[r][i] == n:\n",
        "            return False\n",
        "    # checking in column\n",
        "    for i in range(0, size):\n",
        "        # there is a cell with same value\n",
        "        if matrix[i][c] == n:\n",
        "            return False\n",
        "    row_start = (r // 3) * 3\n",
        "    col_start = (c // 3) * 3\n",
        "    # checking submatrix\n",
        "    for i in range(row_start, row_start + 3):\n",
        "        for j in range(col_start, col_start + 3):\n",
        "            if matrix[i][j] == n:\n",
        "                return False\n",
        "    return True\n",
        "\n",
        "# check validity of number\n",
        "def solve_sudoku():\n",
        "    row = 0\n",
        "    col = 0\n",
        "    # if all cells are assigned then the sudoku is already solved\n",
        "    # pass by reference because number_unassigned will change the values of row and col\n",
        "    a = number_unassigned(row, col)\n",
        "    if a[2] == 0:\n",
        "        return True\n",
        "    row = a[0]\n",
        "    col = a[1]\n",
        "    # number between 1 to 9\n",
        "    for i in range(1, 10):\n",
        "        # if we can assign i to the cell or not\n",
        "        # the cell is matrix[row][col]\n",
        "        if is_safe(i, row, col):\n",
        "            matrix[row][col] = i\n",
        "            # backtracking\n",
        "            if solve_sudoku():\n",
        "                return True\n",
        "            # if we can't proceed with this solution\n",
        "            # reassign the cell\n",
        "            matrix[row][col] = 0\n",
        "    return False\n",
        "\n",
        "if solve_sudoku():\n",
        "    print_sudoku()\n",
        "else:\n",
        "    print(\"No solution\")\n"
      ]
    }
  ]
}