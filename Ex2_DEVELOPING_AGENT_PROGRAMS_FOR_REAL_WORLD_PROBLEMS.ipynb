{
  "nbformat": 4,
  "nbformat_minor": 0,
  "metadata": {
    "colab": {
      "provenance": []
    },
    "kernelspec": {
      "name": "python3",
      "display_name": "Python 3"
    },
    "language_info": {
      "name": "python"
    }
  },
  "cells": [
    {
      "cell_type": "markdown",
      "source": [
        "## Program to color code all territories in Australia"
      ],
      "metadata": {
        "id": "uB2QvFfcokOr"
      }
    },
    {
      "cell_type": "code",
      "source": [
        "from typing import Generic, TypeVar, Dict, List, Optional\n",
        "from abc import ABC, abstractmethod\n",
        "\n",
        "V = TypeVar('V')  # variable type\n",
        "D = TypeVar('D')  # domain type\n",
        "\n",
        "# Base class for all constraints\n",
        "class Constraint(Generic[V, D], ABC):\n",
        "    def __init__(self, variables: List[V]) -> None:\n",
        "        self.variables = variables\n",
        "\n",
        "    @abstractmethod\n",
        "    def satisfied(self, assignment: Dict[V, D]) -> bool:\n",
        "        ...\n",
        "\n",
        "# A constraint satisfaction problem consists of variables of type V\n",
        "# that have ranges of values known as domains of type D and constraints\n",
        "# that determine whether a particular variable's domain selection is valid\n",
        "class CSP(Generic[V, D]):\n",
        "    def __init__(self, variables: List[V], domains: Dict[V, List[D]]) -> None:\n",
        "        self.variables: List[V] = variables  # variables to be constrained\n",
        "        self.domains: Dict[V, List[D]] = domains  # domain of each variable\n",
        "        self.constraints: Dict[V, List[Constraint[V, D]]] = {}\n",
        "        for variable in self.variables:\n",
        "            self.constraints[variable] = []\n",
        "            if variable not in self.domains:\n",
        "                raise LookupError(\"Every variable should have a domain assigned to it.\")\n",
        "\n",
        "    def add_constraint(self, constraint: Constraint[V, D]) -> None:\n",
        "        for variable in constraint.variables:\n",
        "            if variable not in self.variables:\n",
        "                raise LookupError(\"Variable in constraint not in CSP\")\n",
        "            else:\n",
        "                self.constraints[variable].append(constraint)\n",
        "\n",
        "    def consistent(self, variable: V, assignment: Dict[V, D]) -> bool:\n",
        "        for constraint in self.constraints[variable]:\n",
        "            if not constraint.satisfied(assignment):\n",
        "                return False\n",
        "        return True\n",
        "\n",
        "    def backtracking_search(self, assignment: Dict[V, D] = {}) -> Optional[Dict[V, D]]:\n",
        "        if len(assignment) == len(self.variables):\n",
        "            return assignment\n",
        "\n",
        "        unassigned: List[V] = [v for v in self.variables if v not in assignment]\n",
        "        first: V = unassigned[0]\n",
        "        for value in self.domains[first]:\n",
        "            local_assignment = assignment.copy()\n",
        "            local_assignment[first] = value\n",
        "            if self.consistent(first, local_assignment):\n",
        "                result: Optional[Dict[V, D]] = self.backtracking_search(local_assignment)\n",
        "                if result is not None:\n",
        "                    return result\n"
      ],
      "metadata": {
        "id": "CjnXKOxGo9GG"
      },
      "execution_count": null,
      "outputs": []
    },
    {
      "cell_type": "code",
      "execution_count": null,
      "metadata": {
        "colab": {
          "base_uri": "https://localhost:8080/"
        },
        "id": "2kGzNaMan5Kd",
        "outputId": "d9913da5-eefa-41e1-fde3-7b068c2dff82"
      },
      "outputs": [
        {
          "output_type": "stream",
          "name": "stdout",
          "text": [
            "{'Western Australia': 'red', 'Northern Territory': 'green', 'South Australia': 'blue', 'Queensland': 'red', 'New South Wales': 'green', 'Victoria': 'red', 'Tasmania': 'green'}\n"
          ]
        }
      ],
      "source": [
        "class MapColoringConstraint(Constraint[str, str]):\n",
        "    def __init__(self, place1: str, place2: str) -> None:\n",
        "        super().__init__([place1, place2])\n",
        "        self.place1: str = place1\n",
        "        self.place2: str = place2\n",
        "\n",
        "    def satisfied(self, assignment: Dict[str, str]) -> bool:\n",
        "        if self.place1 not in assignment or self.place2 not in assignment:\n",
        "            return True\n",
        "        return assignment[self.place1] != assignment[self.place2]\n",
        "\n",
        "if __name__ == \"__main__\":\n",
        "    variables: List[str] = [\"Western Australia\", \"Northern Territory\", \"South Australia\",\n",
        "                            \"Queensland\", \"New South Wales\", \"Victoria\", \"Tasmania\"]\n",
        "    domains: Dict[str, List[str]] = {}\n",
        "    for variable in variables:\n",
        "        domains[variable] = [\"red\", \"green\", \"blue\"]\n",
        "    csp: CSP[str, str] = CSP(variables, domains)\n",
        "    csp.add_constraint(MapColoringConstraint(\"Western Australia\", \"Northern Territory\"))\n",
        "    csp.add_constraint(MapColoringConstraint(\"Western Australia\", \"South Australia\"))\n",
        "    csp.add_constraint(MapColoringConstraint(\"South Australia\", \"Northern Territory\"))\n",
        "    csp.add_constraint(MapColoringConstraint(\"Queensland\", \"Northern Territory\"))\n",
        "    csp.add_constraint(MapColoringConstraint(\"Queensland\", \"South Australia\"))\n",
        "    csp.add_constraint(MapColoringConstraint(\"Queensland\", \"New South Wales\"))\n",
        "    csp.add_constraint(MapColoringConstraint(\"New South Wales\", \"South Australia\"))\n",
        "    csp.add_constraint(MapColoringConstraint(\"Victoria\", \"South Australia\"))\n",
        "    csp.add_constraint(MapColoringConstraint(\"Victoria\", \"New South Wales\"))\n",
        "    csp.add_constraint(MapColoringConstraint(\"Victoria\", \"Tasmania\"))\n",
        "    solution: Optional[Dict[str, str]] = csp.backtracking_search()\n",
        "    if solution is None:\n",
        "        print(\"No solution found!\")\n",
        "    else:\n",
        "        print(solution)\n"
      ]
    }
  ]
}